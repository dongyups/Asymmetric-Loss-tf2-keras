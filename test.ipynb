{
 "cells": [
  {
   "cell_type": "code",
   "execution_count": 1,
   "metadata": {},
   "outputs": [],
   "source": [
    "# followed same sample task in hammingloss file below.\n",
    "# https://colab.research.google.com/github/harshithere/addons/blob/hammingloss/docs/tutorials/metrics_hammingloss.ipynb"
   ]
  },
  {
   "cell_type": "code",
   "execution_count": 2,
   "metadata": {},
   "outputs": [
    {
     "data": {
      "text/plain": [
       "'2.6.2'"
      ]
     },
     "execution_count": 2,
     "metadata": {},
     "output_type": "execute_result"
    }
   ],
   "source": [
    "import tensorflow as tf\n",
    "tf.__version__"
   ]
  },
  {
   "cell_type": "code",
   "execution_count": 3,
   "metadata": {},
   "outputs": [],
   "source": [
    "import numpy as np\n",
    "import random\n",
    "from tensorflow.keras.models import Sequential\n",
    "from tensorflow.keras.layers import Dense\n",
    "from asymmetric_loss import SigmoidAsymmetricLoss\n",
    "from matplotlib import pyplot as plt"
   ]
  },
  {
   "cell_type": "code",
   "execution_count": 4,
   "metadata": {},
   "outputs": [],
   "source": [
    "# Create random input with 1000 samples and 10 features\n",
    "X = np.random.rand(1000, 10)"
   ]
  },
  {
   "cell_type": "code",
   "execution_count": 5,
   "metadata": {},
   "outputs": [],
   "source": [
    "# Create random output with 6 labels (2 correct labels)\n",
    "Y = []\n",
    "for i in range(0, 1000):\n",
    "    res = [0]*6\n",
    "    n = random.randint(0,5)\n",
    "    m = random.randint(0,5)\n",
    "    res[n], res[m] = 1, 1\n",
    "    Y.append(res)\n",
    "Y = np.array(Y)"
   ]
  },
  {
   "cell_type": "code",
   "execution_count": 6,
   "metadata": {},
   "outputs": [
    {
     "name": "stdout",
     "output_type": "stream",
     "text": [
      "Epoch 1/10\n",
      "8/8 [==============================] - 1s 15ms/step - loss: 0.9063 - val_loss: 0.9264\n",
      "Epoch 2/10\n",
      "8/8 [==============================] - 0s 3ms/step - loss: 0.8688 - val_loss: 0.8907\n",
      "Epoch 3/10\n",
      "8/8 [==============================] - 0s 3ms/step - loss: 0.8353 - val_loss: 0.8590\n",
      "Epoch 4/10\n",
      "8/8 [==============================] - 0s 3ms/step - loss: 0.8061 - val_loss: 0.8310\n",
      "Epoch 5/10\n",
      "8/8 [==============================] - 0s 3ms/step - loss: 0.7813 - val_loss: 0.8066\n",
      "Epoch 6/10\n",
      "8/8 [==============================] - 0s 3ms/step - loss: 0.7609 - val_loss: 0.7856\n",
      "Epoch 7/10\n",
      "8/8 [==============================] - 0s 3ms/step - loss: 0.7427 - val_loss: 0.7684\n",
      "Epoch 8/10\n",
      "8/8 [==============================] - 0s 3ms/step - loss: 0.7300 - val_loss: 0.7544\n",
      "Epoch 9/10\n",
      "8/8 [==============================] - 0s 3ms/step - loss: 0.7189 - val_loss: 0.7437\n",
      "Epoch 10/10\n",
      "8/8 [==============================] - 0s 3ms/step - loss: 0.7112 - val_loss: 0.7360\n"
     ]
    }
   ],
   "source": [
    "# Fitting the model\n",
    "model = Sequential()\n",
    "model.add(Dense(8, input_dim=X.shape[1], activation='relu'))\n",
    "model.add(Dense(6, activation='sigmoid'))\n",
    "model.compile(loss=SigmoidAsymmetricLoss(), optimizer='adam')\n",
    "history = model.fit(X, Y, epochs=10, batch_size=128, validation_split=0.1)"
   ]
  },
  {
   "cell_type": "code",
   "execution_count": 7,
   "metadata": {},
   "outputs": [
    {
     "data": {
      "image/png": "[encoded data removed]",
      "text/plain": [
       "<Figure size 432x288 with 1 Axes>"
      ]
     },
     "metadata": {
      "needs_background": "light"
     },
     "output_type": "display_data"
    }
   ],
   "source": [
    "plt.plot(range(len(history.history[\"val_loss\"])), history.history[\"val_loss\"],\n",
    "             color='red', label='Validation sigmoid asymmetric loss')\n",
    "plt.title('Validation sigmoid asymmetric loss')\n",
    "plt.show()"
   ]
  },
  {
   "cell_type": "code",
   "execution_count": null,
   "metadata": {},
   "outputs": [],
   "source": []
  },
  {
   "cell_type": "code",
   "execution_count": null,
   "metadata": {},
   "outputs": [],
   "source": []
  },
  {
   "cell_type": "code",
   "execution_count": 8,
   "metadata": {},
   "outputs": [],
   "source": [
    "# tf.keras.backend.clear_session()"
   ]
  },
  {
   "cell_type": "code",
   "execution_count": 9,
   "metadata": {},
   "outputs": [],
   "source": [
    "# implementation in nested functions\n",
    "\n",
    "def SigmoidAsymmetricLoss2(gamma_neg=4.0, gamma_pos=1.0, clip=0.05, eps=1e-8, from_logits=False):\n",
    "    \"\"\"\n",
    "    x: y_pred (0 ~~ 1 for each label)\n",
    "    y: y_true (0 or 1 for each label)\n",
    "    \"\"\"\n",
    "    def multi_label_asymmetric_loss_fixed(y_true, y_pred):\n",
    "        # Set Data Types\n",
    "        y_pred = tf.convert_to_tensor(y_pred)\n",
    "        y_true = tf.cast(y_true, dtype=y_pred.dtype)\n",
    "        # Calculating Probabilities\n",
    "        if from_logits:\n",
    "            y_pred = tf.sigmoid(y_pred)\n",
    "        xs_pos = y_pred\n",
    "        xs_neg = 1.0 - y_pred\n",
    "        # Asymmetric Clipping\n",
    "        if clip is not None and clip > 0:\n",
    "            xs_neg = xs_neg + clip\n",
    "            xs_neg = tf.clip_by_value(xs_neg, clip_value_min=tf.reduce_min(xs_neg), clip_value_max=1.0)\n",
    "        # Basic CE calculation\n",
    "        xs_pos = tf.clip_by_value(xs_pos, clip_value_min=eps, clip_value_max=tf.reduce_max(xs_pos))\n",
    "        xs_neg = tf.clip_by_value(xs_neg, clip_value_min=eps, clip_value_max=tf.reduce_max(xs_neg))\n",
    "        los_pos = y_true * tf.math.log(xs_pos)\n",
    "        los_neg = (1.0 - y_true) * tf.math.log(xs_neg)\n",
    "        loss = los_pos + los_neg\n",
    "        # Asymmetric Focusing\n",
    "        if gamma_neg > 0 or gamma_pos > 0:\n",
    "            pt0 = xs_pos * y_true\n",
    "            pt1 = xs_neg * (1.0 - y_true) # pt = p if t > 0 else 1-p\n",
    "            pt = pt0 + pt1\n",
    "            one_sided_gamma = gamma_pos * y_true + gamma_neg * (1.0 - y_true)\n",
    "            one_sided_w = tf.math.pow(1.0 - pt, one_sided_gamma)\n",
    "            loss *= one_sided_w\n",
    "        return -tf.math.reduce_sum(loss, axis=-1)\n",
    "    return multi_label_asymmetric_loss_fixed"
   ]
  },
  {
   "cell_type": "code",
   "execution_count": 10,
   "metadata": {},
   "outputs": [
    {
     "name": "stdout",
     "output_type": "stream",
     "text": [
      "Epoch 1/10\n",
      "8/8 [==============================] - 1s 13ms/step - loss: 0.7375 - val_loss: 0.7847\n",
      "Epoch 2/10\n",
      "8/8 [==============================] - 0s 3ms/step - loss: 0.7297 - val_loss: 0.7770\n",
      "Epoch 3/10\n",
      "8/8 [==============================] - 0s 3ms/step - loss: 0.7236 - val_loss: 0.7711\n",
      "Epoch 4/10\n",
      "8/8 [==============================] - 0s 3ms/step - loss: 0.7189 - val_loss: 0.7669\n",
      "Epoch 5/10\n",
      "8/8 [==============================] - 0s 3ms/step - loss: 0.7149 - val_loss: 0.7632\n",
      "Epoch 6/10\n",
      "8/8 [==============================] - 0s 3ms/step - loss: 0.7115 - val_loss: 0.7598\n",
      "Epoch 7/10\n",
      "8/8 [==============================] - 0s 3ms/step - loss: 0.7086 - val_loss: 0.7575\n",
      "Epoch 8/10\n",
      "8/8 [==============================] - 0s 3ms/step - loss: 0.7060 - val_loss: 0.7551\n",
      "Epoch 9/10\n",
      "8/8 [==============================] - 0s 3ms/step - loss: 0.7037 - val_loss: 0.7521\n",
      "Epoch 10/10\n",
      "8/8 [==============================] - 0s 4ms/step - loss: 0.7016 - val_loss: 0.7485\n"
     ]
    }
   ],
   "source": [
    "# Fitting the model\n",
    "model2 = Sequential()\n",
    "model2.add(Dense(8, input_dim=X.shape[1], activation='relu'))\n",
    "model2.add(Dense(6, activation='sigmoid'))\n",
    "model2.compile(loss=SigmoidAsymmetricLoss2(), optimizer='adam')\n",
    "history2 = model2.fit(X, Y, epochs=10, batch_size=128, validation_split=0.1)"
   ]
  },
  {
   "cell_type": "code",
   "execution_count": 11,
   "metadata": {},
   "outputs": [
    {
     "data": {
      "image/png": "[encoded data removed]",
      "text/plain": [
       "<Figure size 432x288 with 1 Axes>"
      ]
     },
     "metadata": {
      "needs_background": "light"
     },
     "output_type": "display_data"
    }
   ],
   "source": [
    "plt.plot(range(len(history2.history[\"val_loss\"])), history2.history[\"val_loss\"],\n",
    "             color='red', label='Validation sigmoid asymmetric loss')\n",
    "plt.title('Validation sigmoid asymmetric loss')\n",
    "plt.show()"
   ]
  }
 ],
 "metadata": {
  "kernelspec": {
   "display_name": "Python 3.7.11 ('dshin11')",
   "language": "python",
   "name": "python3"
  },
  "language_info": {
   "codemirror_mode": {
    "name": "ipython",
    "version": 3
   },
   "file_extension": ".py",
   "mimetype": "text/x-python",
   "name": "python",
   "nbconvert_exporter": "python",
   "pygments_lexer": "ipython3",
   "version": "3.7.11"
  },
  "orig_nbformat": 4,
  "vscode": {
   "interpreter": {
    "hash": "4fc0413c16bf97490f41fc80e42d44c05610e0b479b3b4104a21be044bd897d7"
   }
  }
 },
 "nbformat": 4,
 "nbformat_minor": 2
}
